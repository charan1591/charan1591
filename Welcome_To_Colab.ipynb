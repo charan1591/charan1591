{
  "cells": [
    {
      "cell_type": "markdown",
      "metadata": {
        "id": "view-in-github",
        "colab_type": "text"
      },
      "source": [
        "<a href=\"https://colab.research.google.com/github/charan1591/charan1591/blob/main/Welcome_To_Colab.ipynb\" target=\"_parent\"><img src=\"https://colab.research.google.com/assets/colab-badge.svg\" alt=\"Open In Colab\"/></a>"
      ]
    },
    {
      "cell_type": "code",
      "source": [
        "from google.colab import drive\n",
        "import pandas as pd\n",
        "drive.mount('/content/drive/')\n",
        "df=pd.read_excel('/ODD.xlsx',sheet_name=1)"
      ],
      "metadata": {
        "id": "bHxlAKfXuVWr",
        "outputId": "bfe457aa-0bfd-496a-8fdd-a9582666dbd5",
        "colab": {
          "base_uri": "https://localhost:8080/"
        }
      },
      "execution_count": 2,
      "outputs": [
        {
          "output_type": "stream",
          "name": "stdout",
          "text": [
            "Mounted at /content/drive/\n"
          ]
        }
      ]
    },
    {
      "cell_type": "code",
      "source": [
        "print(df)"
      ],
      "metadata": {
        "id": "pUn6bZFiwF7L",
        "outputId": "b5c59f39-a04b-4502-dbb8-07447dd60878",
        "colab": {
          "base_uri": "https://localhost:8080/"
        }
      },
      "execution_count": 3,
      "outputs": [
        {
          "output_type": "stream",
          "name": "stdout",
          "text": [
            "     Booking_ID Customer_ID   Destination             Travel_Dates  \\\n",
            "0      BKG01438    CUST5663     BANGALORE  2024-05-27 - 2025-06-02   \n",
            "1      BKG02701    CUST4963       Vietnam  2024/05/02 / 2025/06/28   \n",
            "2      BKG03648    cust5625         Tokyo  2023-12-02 - 2025-03-09   \n",
            "3      BKG02513    CUST4246         Delhi  2023-11-10 - 2024-09-13   \n",
            "4      bkg02903    CUST3901       Chennai  2023-11-09 - 2024-08-22   \n",
            "...         ...         ...           ...                      ...   \n",
            "5245   BKG03093    CUST4090   BRANDYVILLE  2024-01-23 - 2025-04-15   \n",
            "5246   BKG03773    CUST0249   SAINT LUCIA  2023-12-11 - 2025-01-11   \n",
            "5247   bkg04354    CUST3227         Delhi  2024-06-13 - 2025-04-10   \n",
            "5248        NaN         NaN           NaN                      NaN   \n",
            "5249   BKG00861    CUST1529  Turkmenistan  2024-05-11 - 2024-11-06   \n",
            "\n",
            "     Booking_Date  Number_of_Travelers Travel_Package Payment_Method  \\\n",
            "0      2023-07-26                  3.0        Premium     Debit Card   \n",
            "1      2024-02-05                  3.0       Standard    Credit Card   \n",
            "2      2024-07-17                  2.0            NaN            NaN   \n",
            "3      2024-03-15                  6.0         Luxury    Credit Card   \n",
            "4      2023-04-09                  3.0         Luxury         PayPal   \n",
            "...           ...                  ...            ...            ...   \n",
            "5245   2024-08-17                  3.0            NaN  Bank Transfer   \n",
            "5246   2023-04-07                  1.0            NaN            NaN   \n",
            "5247   2024-04-15                  6.0         Luxury  Bank Transfer   \n",
            "5248          NaT                  NaN            NaN            NaN   \n",
            "5249   2024-07-12                  3.0       Standard         PayPal   \n",
            "\n",
            "      Total_Cost              Travel_Agent  \\\n",
            "0       41695.84                  Bass Inc   \n",
            "1       36619.85                Wood Group   \n",
            "2       44543.87           Bridges-Collins   \n",
            "3       41053.94     Edwards, Hill and Lee   \n",
            "4       36238.26                 Hardy Inc   \n",
            "...          ...                       ...   \n",
            "5245    45823.85  King, Porter and Patrick   \n",
            "5246    28937.40              Lane-Hopkins   \n",
            "5247    63021.04                Curry-Duke   \n",
            "5248         NaN                       NaN   \n",
            "5249    77632.50   Lewis, Jones and Morgan   \n",
            "\n",
            "                                      Customer_Feedback  \n",
            "0     Power matter brother guy. Out adult perhaps ge...  \n",
            "1     Position call within size than couple. Effect ...  \n",
            "2                                                   NaN  \n",
            "3                                                   NaN  \n",
            "4                                                   NaN  \n",
            "...                                                 ...  \n",
            "5245                       Understand man remain tough.  \n",
            "5246  Scientist bank wife. Measure prevent fear imag...  \n",
            "5247  Space area above score economy happy spring in...  \n",
            "5248                                                NaN  \n",
            "5249                                                NaN  \n",
            "\n",
            "[5250 rows x 11 columns]\n"
          ]
        }
      ]
    }
  ],
  "metadata": {
    "colab": {
      "name": "Welcome To Colab",
      "provenance": [],
      "include_colab_link": true
    },
    "kernelspec": {
      "display_name": "Python 3",
      "name": "python3"
    }
  },
  "nbformat": 4,
  "nbformat_minor": 0
}